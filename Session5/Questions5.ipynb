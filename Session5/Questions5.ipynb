{
 "cells": [
  {
   "cell_type": "markdown",
   "id": "4b7e4703",
   "metadata": {},
   "source": [
    "soru 1-) image processing, computer vision da temel projeler neler (uğur ipekdüzen)\n",
    "\n",
    "soru 2-) Sharpening (Gürdal Yaman)\n",
    "\n",
    "soru 3-) Thresholding, Binarization & Adaptive Thresholding (enginar)\n",
    "\n",
    "soru 4-) Dilation, Erosion, Opening and Closing (elrond)\n",
    "\n",
    "soru 5-) Edge Detection & Image Gradients (elrond)\n",
    "\n",
    "soru 6-) Perpsective Transform (enes)\n",
    "\n",
    "soru 7-) Scaling, re-sizing and interpolations (enes)\n",
    "\n",
    "soru 8-) Image Pyramids (türkalp)\n",
    "\n",
    "soru 9-) Cropping (türkalp)\n",
    "\n",
    "soru 10-) Blurring (onur)\n",
    "\n",
    "soru 11-) Contours (onur)\n",
    "\n",
    "soru 12-) Reading and Displaying the image,\n",
    "Writing the image, Resizing the image,\n",
    "Converting into grayscale image,Blurring the image (F14)\n"
   ]
  }
 ],
 "metadata": {
  "kernelspec": {
   "display_name": "Python 3 (ipykernel)",
   "language": "python",
   "name": "python3"
  },
  "language_info": {
   "codemirror_mode": {
    "name": "ipython",
    "version": 3
   },
   "file_extension": ".py",
   "mimetype": "text/x-python",
   "name": "python",
   "nbconvert_exporter": "python",
   "pygments_lexer": "ipython3",
   "version": "3.9.13"
  }
 },
 "nbformat": 4,
 "nbformat_minor": 5
}
