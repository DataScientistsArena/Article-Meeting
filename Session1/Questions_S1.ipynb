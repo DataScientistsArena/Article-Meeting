{
  "cells": [
    {
      "cell_type": "markdown",
      "id": "5f4a9d74",
      "metadata": {
        "id": "5f4a9d74"
      },
      "source": [
        "1. Hedef değişkeni ile korelasyon arasındaki ilişki ne? çok yüksek korelasyon veya çok düşük korelasyon varsa sutünu çıkartıyor muyuz?  çok yüksek korelasyon overfitting'e sebep olacağından çıkarılmalıdır. (Merve) \n",
        "\n",
        "2. Feature scaling'e neden ihtiyaç duyarız? (Mert Urper)  \n",
        "\n",
        "3. Karar ağaçlarında scaling işlemi neden tercih edilmez? (Mert Urper) \n",
        "\n",
        "4. (Distance based algorithms) mesafe tabanlı algoritmalar hangileridir? (Mülakat sorusu) (Mert Urper) \n",
        "\n",
        "5. Train ve test ayırdıktan sonra nan valuesleri doldurmalıyız. train ve test split işlem sıralamasında nerede yer alır? feature engineering, feature selection data splitting işleminden sonra yapılmalıdır. (onurkoc83)  \n",
        "\n",
        "6. XGBoost ve Gradient boosting farkı ne? (Merve) \n",
        "\n",
        "7. Feature importance random forest ta neye göre hesap edilir. (Onur koc8 3)  \n",
        "\n",
        "8. NaN değerlerle çalışabilen ML algoritmaları neler? (Uğur İPEKDÜZEN)  "
      ]
    }
  ],
  "metadata": {
    "kernelspec": {
      "display_name": "Python 3 (ipykernel)",
      "language": "python",
      "name": "python3"
    },
    "language_info": {
      "codemirror_mode": {
        "name": "ipython",
        "version": 3
      },
      "file_extension": ".py",
      "mimetype": "text/x-python",
      "name": "python",
      "nbconvert_exporter": "python",
      "pygments_lexer": "ipython3",
      "version": "3.9.13"
    },
    "colab": {
      "provenance": []
    }
  },
  "nbformat": 4,
  "nbformat_minor": 5
}