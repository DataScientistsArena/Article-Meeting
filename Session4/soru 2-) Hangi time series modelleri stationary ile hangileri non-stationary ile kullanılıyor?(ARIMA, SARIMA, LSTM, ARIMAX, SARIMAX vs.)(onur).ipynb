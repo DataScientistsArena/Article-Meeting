{
 "cells": [
  {
   "cell_type": "markdown",
   "id": "c713e7be",
   "metadata": {},
   "source": [
    "ARIMA and SARIMA are both algorithms for forecasting. ARIMA takes into account the past values (autoregressive, moving average) and predicts future values based on that. SARIMA similarly uses past values but also takes into account any seasonality patterns."
   ]
  },
  {
   "cell_type": "markdown",
   "id": "7894f9f1",
   "metadata": {},
   "source": [
    "ARIMA model is useful in the cases where the time series is non-stationary. And the differencing is required to make the time series stationary. "
   ]
  },
  {
   "cell_type": "markdown",
   "id": "70b48730",
   "metadata": {},
   "source": [
    "\n",
    "D = In an ARIMA model we transform a time series into stationary one(series without trend or seasonality) using differencing. D refers to the number of differencing transformations required by the time series to get stationary. Stationary time series is when the mean and variance are constant over time"
   ]
  },
  {
   "cell_type": "markdown",
   "id": "91e632d3",
   "metadata": {},
   "source": [
    "Here we can see that our forecast is lying approximately on the given data in all processes we are trying to make predictions on available data and the values are quite satisfying but not the data we used after differencing, which means the values we are going to predict also without the seasonality effect or any other affecting components. So to get rid of the situation, we can use the SARIMAX model. So let’s have an overview of SARIMAX."
   ]
  },
  {
   "cell_type": "markdown",
   "id": "fc231c9f",
   "metadata": {},
   "source": [
    "SARIMAX(Seasonal Auto-Regressive Integrated Moving Average with eXogenous factors) is an updated version of the ARIMA model. ARIMA includes an autoregressive integrated moving average, while SARIMAX includes seasonal effects and eXogenous factors with the autoregressive and moving average component in the model. Therefore, we can say SARIMAX is a seasonal equivalent model like SARIMA and Auto ARIMA.\n",
    "\n",
    "https://analyticsindiamag.com/complete-guide-to-sarimax-in-python-for-time-series-modeling/"
   ]
  },
  {
   "cell_type": "markdown",
   "id": "341e8d98",
   "metadata": {},
   "source": [
    "However, SARIMAX does not require that your exog variables be stationary - the model will usually run with no problems with trending exog variables. As noted above, the problems occur if the model estimates a spurious relationship."
   ]
  },
  {
   "cell_type": "markdown",
   "id": "9a939e6a",
   "metadata": {},
   "source": [
    "https://towardsdatascience.com/time-series-forecasting-with-arima-sarima-and-sarimax-ee61099e78f6"
   ]
  },
  {
   "cell_type": "code",
   "execution_count": null,
   "id": "616acaae",
   "metadata": {},
   "outputs": [],
   "source": []
  }
 ],
 "metadata": {
  "kernelspec": {
   "display_name": "Python 3 (ipykernel)",
   "language": "python",
   "name": "python3"
  },
  "language_info": {
   "codemirror_mode": {
    "name": "ipython",
    "version": 3
   },
   "file_extension": ".py",
   "mimetype": "text/x-python",
   "name": "python",
   "nbconvert_exporter": "python",
   "pygments_lexer": "ipython3",
   "version": "3.9.13"
  }
 },
 "nbformat": 4,
 "nbformat_minor": 5
}
