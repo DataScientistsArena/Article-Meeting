{
 "cells": [
  {
   "cell_type": "markdown",
   "id": "9b29330e",
   "metadata": {},
   "source": [
    "\n",
    "soru 1 -) ACF VE PACF grafikleri nasıl yorumluyoruz?\n",
    "p q mi elde ediliyor ? stationary olup olmadığı anlaşılıyor?\n",
    "başka bilgi çıkartılabilir mi? (onur)\n",
    "\n",
    "soru 2-) Hangi time series modelleri stationary ile hangileri non-stationary ile kullanılıyor?(ARIMA, SARIMA, LSTM, ARIMAX, SARIMAX vs.)(onur)\n",
    "\n",
    "soru-3-) p d q değerleri nasıl belirleniyor (mert urper)\n",
    "\n",
    "soru-4-) p ve q otomatik hesaplayan autoarima python kodunu tasarlayım(mert urper)\n",
    "\n",
    "soru 5-) AIC değerinin düşük olması istenir neden? AIC score ne ifade ediyor? (enginar)\n",
    "\n",
    "soru 6-) stationary testleri neler nasıl belirlenir stationary olup olmadığı? (obayram)\n",
    "\n",
    "soru 7-) P>|z| 0.05 arıma modelin çıktısında bu değerden hangisi 0.05 'in altında olmalı önem arz etmesi için ? (zeynep)\n",
    "\n",
    "soru 8-) non stationary data hangi metodlar stationary hale getirilir (MMucahitNAS)\n",
    "\n",
    "soru 9-) stationary olması için koşullar 5-6 tane grafik üzerinden kontrol edelim (rümeysa kefeli)\n",
    "\n",
    "soru 10-) arıma modelin çıktısını yorumlayalım (Süleyman çelik)"
   ]
  },
  {
   "cell_type": "code",
   "execution_count": null,
   "id": "66868770",
   "metadata": {},
   "outputs": [],
   "source": []
  }
 ],
 "metadata": {
  "kernelspec": {
   "display_name": "Python 3 (ipykernel)",
   "language": "python",
   "name": "python3"
  },
  "language_info": {
   "codemirror_mode": {
    "name": "ipython",
    "version": 3
   },
   "file_extension": ".py",
   "mimetype": "text/x-python",
   "name": "python",
   "nbconvert_exporter": "python",
   "pygments_lexer": "ipython3",
   "version": "3.9.13"
  }
 },
 "nbformat": 4,
 "nbformat_minor": 5
}
