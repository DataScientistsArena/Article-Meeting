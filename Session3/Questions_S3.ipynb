{
  "nbformat": 4,
  "nbformat_minor": 0,
  "metadata": {
    "colab": {
      "provenance": []
    },
    "kernelspec": {
      "name": "python3",
      "display_name": "Python 3"
    },
    "language_info": {
      "name": "python"
    }
  },
  "cells": [
    {
      "cell_type": "markdown",
      "source": [
        "1- Time serilerindeki patternler neler? Nasıl hesaplanır?(decompose-Additive and Multiplicative Decompose- grafikleri \n",
        "nasıl yorumlamak gerekir) →  (Nermin)\n",
        "\n",
        "2- Hangi time series modelleri stationary ile hangileri non-stationary ile kullanılıyor?(ARIMA, SARIMA, LSTM, ARIMAX, SARIMAX vs.) →  (Merve)\n",
        "\n",
        "3- Non-stationary i stationary e çevirme yöntemleri neler ?→  (Selin) gereken durumlar nelerdir?\n",
        "\n",
        "4- Stationary testleri ne işe yarar, nasıl uygulanır: →  (Onur)\n",
        "Augmented Dickey Fuller test (ADH Test)\n",
        "Kwiatkowski-Phillips-Schmidt-Shin – KPSS test (trend stationary)\n",
        "Philips Perron test (PP Test)\n",
        "\n",
        "5- Seasonality nasıl tespit edilir? →  (Selin)\n",
        "\n",
        "6- Eksik veriler bulunduğunda nasıl çalışılır falan filan 🙂→  (Uğur)\n",
        "\n",
        "7- Autocorrelation-partial autocorrelation nedir, faydası nedir, ne işe yarar, nasıl hesaplanır? →  (Onur)\n"
      ],
      "metadata": {
        "id": "qmOEG5o717X3"
      }
    }
  ]
}