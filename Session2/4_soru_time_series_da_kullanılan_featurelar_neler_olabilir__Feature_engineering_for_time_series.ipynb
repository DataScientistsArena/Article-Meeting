{
  "nbformat": 4,
  "nbformat_minor": 0,
  "metadata": {
    "colab": {
      "provenance": []
    },
    "kernelspec": {
      "name": "python3",
      "display_name": "Python 3"
    },
    "language_info": {
      "name": "python"
    }
  },
  "cells": [
    {
      "cell_type": "markdown",
      "source": [
        "4-) time series da kullanılan featurelar neler olabilir? Feature engineering for time series\t \n",
        "\n",
        "Several deliberate features are calculated includes: rolling feature, lag feature, selling price feature as well as min, max, median features. Then we combine these features together. (onur ) \n",
        "\n",
        "Date Time Features: these are components of the time step itself for each observation.\n",
        "Lag Features: these are values at prior time steps.\n",
        "Window Features: these are a summary of values over a fixed window of prior time steps.\n",
        "\n",
        "https://www.analyticsvidhya.com/blog/2019/12/6-powerful-feature-engineering-techniques-time-series/\n",
        "\n",
        "https://h2o.ai/blog/an-introduction-to-time-series-modeling-time-series-preprocessing-and-feature-engineering/"
      ],
      "metadata": {
        "id": "KSXuNj_OyJpI"
      }
    }
  ]
}